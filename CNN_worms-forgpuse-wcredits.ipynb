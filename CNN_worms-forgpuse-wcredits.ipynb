{
  "cells": [
    {
      "cell_type": "markdown",
      "metadata": {
        "id": "view-in-github",
        "colab_type": "text"
      },
      "source": [
        "<a href=\"https://colab.research.google.com/github/EisaacJC/CNN--Worms-Prediction/blob/main/CNN_worms-forgpuse-wcredits.ipynb\" target=\"_parent\"><img src=\"https://colab.research.google.com/assets/colab-badge.svg\" alt=\"Open In Colab\"/></a>"
      ]
    },
    {
      "cell_type": "markdown",
      "source": [
        "## Basada en [Pythorch.org](https://pytorch.org/tutorials/beginner/transfer_learning_tutorial.html)\n",
        "\n"
      ],
      "metadata": {
        "id": "qmHYaMp-FbLD"
      },
      "id": "qmHYaMp-FbLD"
    },
    {
      "cell_type": "code",
      "execution_count": 1,
      "id": "8f6d288d-9767-4768-ac11-127eadc34451",
      "metadata": {
        "id": "8f6d288d-9767-4768-ac11-127eadc34451"
      },
      "outputs": [],
      "source": [
        "from __future__ import print_function, division\n",
        "\n",
        "import torch\n",
        "import torch.nn as nn\n",
        "import torch.optim as optim\n",
        "from torch.optim import lr_scheduler\n",
        "import torch.backends.cudnn as cudnn\n",
        "import numpy as np\n",
        "import torchvision\n",
        "from torchvision import datasets, models, transforms\n",
        "import matplotlib.pyplot as plt\n",
        "import time\n",
        "import os\n",
        "import copy\n",
        "import pandas as pd\n",
        "cudnn.benchmark = True\n",
        "from PIL import Image\n",
        "import cv2\n",
        "plt.ion() "
      ]
    },
    {
      "cell_type": "markdown",
      "source": [
        ""
      ],
      "metadata": {
        "id": "6Tu8nQSUFZsA"
      },
      "id": "6Tu8nQSUFZsA"
    },
    {
      "cell_type": "code",
      "source": [
        "from google.colab import drive\n",
        "drive.mount('/content/drive/')"
      ],
      "metadata": {
        "colab": {
          "base_uri": "https://localhost:8080/"
        },
        "id": "57rNmqCyz4qa",
        "outputId": "aef1331e-6de1-4d5c-8357-5ba4c39407a6"
      },
      "id": "57rNmqCyz4qa",
      "execution_count": 2,
      "outputs": [
        {
          "output_type": "stream",
          "name": "stdout",
          "text": [
            "Mounted at /content/drive/\n"
          ]
        }
      ]
    },
    {
      "cell_type": "markdown",
      "id": "98e45a55-ad4a-4ad7-8346-f9b16bc7cf4b",
      "metadata": {
        "id": "98e45a55-ad4a-4ad7-8346-f9b16bc7cf4b"
      },
      "source": [
        "## Preprocesar los datos por etiqueta"
      ]
    },
    {
      "cell_type": "code",
      "source": [
        "!wget https://raw.githubusercontent.com/EisaacJC/CNN--Worms-Prediction/main/folder_creation.sh\n",
        "!chmod a+x folder_creation.sh\n",
        "!./folder_creation.sh"
      ],
      "metadata": {
        "colab": {
          "base_uri": "https://localhost:8080/"
        },
        "id": "BoxsLk-M5N_k",
        "outputId": "bbc26fb1-bd7c-4976-9faa-532bc5247222"
      },
      "id": "BoxsLk-M5N_k",
      "execution_count": 11,
      "outputs": [
        {
          "output_type": "stream",
          "name": "stdout",
          "text": [
            "--2022-06-05 03:49:16--  https://raw.githubusercontent.com/EisaacJC/CNN--Worms-Prediction/main/folder_creation.sh\n",
            "Resolving raw.githubusercontent.com (raw.githubusercontent.com)... 185.199.108.133, 185.199.109.133, 185.199.110.133, ...\n",
            "Connecting to raw.githubusercontent.com (raw.githubusercontent.com)|185.199.108.133|:443... connected.\n",
            "HTTP request sent, awaiting response... 200 OK\n",
            "Length: 208 [text/plain]\n",
            "Saving to: ‘folder_creation.sh’\n",
            "\n",
            "\rfolder_creation.sh    0%[                    ]       0  --.-KB/s               \rfolder_creation.sh  100%[===================>]     208  --.-KB/s    in 0s      \n",
            "\n",
            "2022-06-05 03:49:17 (11.1 MB/s) - ‘folder_creation.sh’ saved [208/208]\n",
            "\n"
          ]
        }
      ]
    },
    {
      "cell_type": "code",
      "execution_count": 12,
      "id": "9b955408-0640-4c23-b869-afd809ae8722",
      "metadata": {
        "id": "9b955408-0640-4c23-b869-afd809ae8722"
      },
      "outputs": [],
      "source": [
        "def save_data(dataset,kind):\n",
        "    df=pd.read_csv(dataset)\n",
        "    train=df.sample(frac=0.8)\n",
        "    test=df.sample(frac=0.2)\n",
        "    train.reset_index(drop=True, inplace=True)\n",
        "    test.reset_index(drop=True, inplace=True)\n",
        "    if kind==\"train\":\n",
        "        pathf=\"train\"\n",
        "        dataset=train\n",
        "    elif kind==\"test\":\n",
        "        dataset=test\n",
        "        pathf=\"val\"\n",
        "    else:\n",
        "        print(\"Solo puedes poner las opciones train y val\")\n",
        "    ds=dataset\n",
        "    for i in range(len(ds)):\n",
        "        img =cv2.imread(\"/content/drive/MyDrive/WormsImages/\"+ds.at[i,\"File\"],0)\n",
        "        img=cv2.equalizeHist(img)\n",
        "        if ds.at[i,\"Status\"]==\"alive\":\n",
        "            cv2.imwrite(\"worms/\"+pathf+\"/alive/\"+str(\"img\")+str(i)+str(pathf)+\".jpg\",img)\n",
        "        elif ds.at[i,\"Status\"]==\"dead\":\n",
        "            cv2.imwrite(\"worms/\"+pathf+\"/dead/\"+str(\"img\")+str(i)+str(pathf)+\".jpg\",img)\n",
        "    return"
      ]
    },
    {
      "cell_type": "code",
      "source": [
        "url=\"https://raw.githubusercontent.com/EisaacJC/CNN--Worms-Prediction/main/WormData.csv\""
      ],
      "metadata": {
        "id": "S7ixkqtH5lxd"
      },
      "id": "S7ixkqtH5lxd",
      "execution_count": 13,
      "outputs": []
    },
    {
      "cell_type": "code",
      "execution_count": 14,
      "id": "d98a49f3-eb21-4bf0-975e-248999641270",
      "metadata": {
        "id": "d98a49f3-eb21-4bf0-975e-248999641270"
      },
      "outputs": [],
      "source": [
        "save_data(url, \"train\")"
      ]
    },
    {
      "cell_type": "code",
      "source": [
        "save_data(url, \"test\")"
      ],
      "metadata": {
        "id": "FTeNRHmO1UQT"
      },
      "id": "FTeNRHmO1UQT",
      "execution_count": 15,
      "outputs": []
    },
    {
      "cell_type": "code",
      "execution_count": 8,
      "id": "1207e27b-149f-45f9-b185-a711d706648b",
      "metadata": {
        "id": "1207e27b-149f-45f9-b185-a711d706648b"
      },
      "outputs": [],
      "source": [
        "data_transforms = {\n",
        "    'train': transforms.Compose([\n",
        "        transforms.RandomResizedCrop(224),\n",
        "        transforms.RandomHorizontalFlip(),\n",
        "        transforms.ToTensor(),\n",
        "        transforms.Normalize([0.485, 0.456, 0.406], [0.229, 0.224, 0.225])\n",
        "    ]),\n",
        "    'val': transforms.Compose([\n",
        "        transforms.Resize(256),\n",
        "        transforms.CenterCrop(224),\n",
        "        transforms.ToTensor(),\n",
        "        transforms.Normalize([0.485, 0.456, 0.406], [0.229, 0.224, 0.225])\n",
        "    ]),\n",
        "}"
      ]
    },
    {
      "cell_type": "code",
      "execution_count": 16,
      "id": "4654703e-46b2-44c6-81c0-9fd21cea335c",
      "metadata": {
        "colab": {
          "base_uri": "https://localhost:8080/"
        },
        "id": "4654703e-46b2-44c6-81c0-9fd21cea335c",
        "outputId": "8258ab09-a8d0-47c7-88af-4f6cae12d722"
      },
      "outputs": [
        {
          "output_type": "stream",
          "name": "stderr",
          "text": [
            "/usr/local/lib/python3.7/dist-packages/torch/utils/data/dataloader.py:490: UserWarning: This DataLoader will create 4 worker processes in total. Our suggested max number of worker in current system is 2, which is smaller than what this DataLoader is going to create. Please be aware that excessive worker creation might get DataLoader running slow or even freeze, lower the worker number to avoid potential slowness/freeze if necessary.\n",
            "  cpuset_checked))\n"
          ]
        }
      ],
      "source": [
        "data_dir = 'worms/'\n",
        "image_datasets = {x: datasets.ImageFolder(os.path.join(data_dir, x),\n",
        "                                          data_transforms[x])\n",
        "                    for x in ['train', 'val']}\n",
        "dataloaders = {x: torch.utils.data.DataLoader(image_datasets[x], batch_size=4,\n",
        "                                             shuffle=True, num_workers=4)\n",
        "              for x in ['train', 'val']}\n",
        "dataset_sizes = {x: len(image_datasets[x]) for x in ['train', 'val']}\n",
        "class_names = image_datasets['train'].classes\n",
        "\n",
        "device = torch.device(\"cuda:0\" if torch.cuda.is_available() else \"cpu\")"
      ]
    },
    {
      "cell_type": "code",
      "execution_count": 17,
      "id": "1e584889-537d-48f5-a9af-d661828c139b",
      "metadata": {
        "id": "1e584889-537d-48f5-a9af-d661828c139b",
        "colab": {
          "base_uri": "https://localhost:8080/",
          "height": 203
        },
        "outputId": "2d020892-e19e-4816-dcf0-8c9a6aded4a6"
      },
      "outputs": [
        {
          "output_type": "stream",
          "name": "stderr",
          "text": [
            "/usr/local/lib/python3.7/dist-packages/torch/utils/data/dataloader.py:490: UserWarning: This DataLoader will create 4 worker processes in total. Our suggested max number of worker in current system is 2, which is smaller than what this DataLoader is going to create. Please be aware that excessive worker creation might get DataLoader running slow or even freeze, lower the worker number to avoid potential slowness/freeze if necessary.\n",
            "  cpuset_checked))\n"
          ]
        },
        {
          "output_type": "display_data",
          "data": {
            "text/plain": [
              "<Figure size 432x288 with 1 Axes>"
            ],
            "image/png": "[encoded data removed]"
          },
          "metadata": {
            "needs_background": "light"
          }
        }
      ],
      "source": [
        "def imshow(inp, title=None):\n",
        "    \"\"\"Imshow for Tensor.\"\"\"\n",
        "    inp = inp.numpy().transpose((1, 2, 0))\n",
        "    mean = np.array([0.485, 0.456, 0.406])\n",
        "    std = np.array([0.229, 0.224, 0.225])\n",
        "    inp = std * inp + mean\n",
        "    inp = np.clip(inp, 0, 1)\n",
        "    plt.imshow(inp)\n",
        "    if title is not None:\n",
        "        plt.title(title)\n",
        "    plt.pause(0.001)  # pause a bit so that plots are updated\n",
        "\n",
        "\n",
        "# Get a batch of training data\n",
        "inputs, classes = next(iter(dataloaders['train']))\n",
        "\n",
        "# Make a grid from batch\n",
        "out = torchvision.utils.make_grid(inputs)\n",
        "\n",
        "imshow(out, title=[class_names[x] for x in classes])"
      ]
    },
    {
      "cell_type": "code",
      "execution_count": 18,
      "id": "3e873b54-2b00-44d2-a15f-efa78b0f6dca",
      "metadata": {
        "id": "3e873b54-2b00-44d2-a15f-efa78b0f6dca"
      },
      "outputs": [],
      "source": [
        "def train_model(model, criterion, optimizer, scheduler, num_epochs=25):\n",
        "    since = time.time()\n",
        "\n",
        "    best_model_wts = copy.deepcopy(model.state_dict())\n",
        "    best_acc = 0.0\n",
        "\n",
        "    for epoch in range(num_epochs):\n",
        "        print(f'Epoch {epoch}/{num_epochs - 1}')\n",
        "        print('-' * 10)\n",
        "\n",
        "        # Each epoch has a training and validation phase\n",
        "        for phase in ['train', 'val']:\n",
        "            if phase == 'train':\n",
        "                model.train()  # Set model to training mode\n",
        "            else:\n",
        "                model.eval()   # Set model to evaluate mode\n",
        "\n",
        "            running_loss = 0.0\n",
        "            running_corrects = 0\n",
        "\n",
        "            # Iterate over data.\n",
        "            for inputs, labels in dataloaders[phase]:\n",
        "                inputs = inputs.to(device)\n",
        "                labels = labels.to(device)\n",
        "\n",
        "                # zero the parameter gradients\n",
        "                optimizer.zero_grad()\n",
        "\n",
        "                # forward\n",
        "                # track history if only in train\n",
        "                with torch.set_grad_enabled(phase == 'train'):\n",
        "                    outputs = model(inputs)\n",
        "                    _, preds = torch.max(outputs, 1)\n",
        "                    loss = criterion(outputs, labels)\n",
        "\n",
        "                    # backward + optimize only if in training phase\n",
        "                    if phase == 'train':\n",
        "                        loss.backward()\n",
        "                        optimizer.step()\n",
        "\n",
        "                # statistics\n",
        "                running_loss += loss.item() * inputs.size(0)\n",
        "                running_corrects += torch.sum(preds == labels.data)\n",
        "            if phase == 'train':\n",
        "                scheduler.step()\n",
        "\n",
        "            epoch_loss = running_loss / dataset_sizes[phase]\n",
        "            epoch_acc = running_corrects.double() / dataset_sizes[phase]\n",
        "\n",
        "            print(f'{phase} Loss: {epoch_loss:.4f} Acc: {epoch_acc:.4f}')\n",
        "\n",
        "            # deep copy the model\n",
        "            if phase == 'val' and epoch_acc > best_acc:\n",
        "                best_acc = epoch_acc\n",
        "                best_model_wts = copy.deepcopy(model.state_dict())\n",
        "\n",
        "        print()\n",
        "\n",
        "    time_elapsed = time.time() - since\n",
        "    print(f'Training complete in {time_elapsed // 60:.0f}m {time_elapsed % 60:.0f}s')\n",
        "    print(f'Best val Acc: {best_acc:4f}')\n",
        "\n",
        "    # load best model weights\n",
        "    model.load_state_dict(best_model_wts)\n",
        "    return model"
      ]
    },
    {
      "cell_type": "code",
      "execution_count": 19,
      "id": "8628ae1c-f610-435d-abe2-433bf64be1aa",
      "metadata": {
        "id": "8628ae1c-f610-435d-abe2-433bf64be1aa"
      },
      "outputs": [],
      "source": [
        "def visualize_model(model, num_images=6):\n",
        "    was_training = model.training\n",
        "    model.eval()\n",
        "    images_so_far = 0\n",
        "    fig = plt.figure()\n",
        "\n",
        "    with torch.no_grad():\n",
        "        for i, (inputs, labels) in enumerate(dataloaders['val']):\n",
        "            inputs = inputs.to(device)\n",
        "            labels = labels.to(device)\n",
        "\n",
        "            outputs = model(inputs)\n",
        "            _, preds = torch.max(outputs, 1)\n",
        "\n",
        "            for j in range(inputs.size()[0]):\n",
        "                images_so_far += 1\n",
        "                ax = plt.subplot(num_images//2,2, images_so_far)\n",
        "                ax.axis('off')\n",
        "                ax.set_title(f'predicted: {class_names[preds[j]]}')\n",
        "                imshow(inputs.cpu().data[j])\n",
        "                if images_so_far == num_images:\n",
        "                    model.train(mode=was_training)\n",
        "                    return\n",
        "        model.train(mode=was_training)"
      ]
    },
    {
      "cell_type": "code",
      "execution_count": 20,
      "id": "1c668f1e-e54f-45e5-92a7-80fc097ec82a",
      "metadata": {
        "id": "1c668f1e-e54f-45e5-92a7-80fc097ec82a",
        "colab": {
          "base_uri": "https://localhost:8080/",
          "height": 86,
          "referenced_widgets": [
            "07bfc609a2e94939b7a4f2042bba4eec",
            "40303e33635248fbba6bd928adce3fde",
            "355e496ed51e4d95be398d878f7399f5",
            "5536ad66a66b4522a3a94e7d7f481d33",
            "a78e13db751944c08f70c7ad204db8ab",
            "e359712d682f4e4eac7d704139c217e1",
            "3e4aa324e8d842ee9dba0c73e779b1e7",
            "9ecbefe627eb4ad9a9de4da321fa0216",
            "16c1a68491cf49f7ae4428498c0e95d7",
            "76db5bb261ba4a68a800e72392ddafad",
            "d2900aeb43de4501948ba01fd1bb8989"
          ]
        },
        "outputId": "e749edf3-ece7-433b-a079-f1a613bb99c4"
      },
      "outputs": [
        {
          "output_type": "stream",
          "name": "stderr",
          "text": [
            "Downloading: \"https://download.pytorch.org/models/resnet18-f37072fd.pth\" to /root/.cache/torch/hub/checkpoints/resnet18-f37072fd.pth\n"
          ]
        },
        {
          "output_type": "display_data",
          "data": {
            "text/plain": [
              "  0%|          | 0.00/44.7M [00:00<?, ?B/s]"
            ],
            "application/vnd.jupyter.widget-view+json": {
              "version_major": 2,
              "version_minor": 0,
              "model_id": "07bfc609a2e94939b7a4f2042bba4eec"
            }
          },
          "metadata": {}
        }
      ],
      "source": [
        "model_ft = models.resnet18(pretrained=True)\n",
        "num_ftrs = model_ft.fc.in_features\n",
        "# Here the size of each output sample is set to 2.\n",
        "# Alternatively, it can be generalized to nn.Linear(num_ftrs, len(class_names)).\n",
        "model_ft.fc = nn.Linear(num_ftrs, 2)\n",
        "\n",
        "model_ft = model_ft.to(device)\n",
        "\n",
        "criterion = nn.CrossEntropyLoss()\n",
        "\n",
        "# Observe that all parameters are being optimized\n",
        "optimizer_ft = optim.SGD(model_ft.parameters(), lr=0.001, momentum=0.9)\n",
        "\n",
        "# Decay LR by a factor of 0.1 every 7 epochs\n",
        "exp_lr_scheduler = lr_scheduler.StepLR(optimizer_ft, step_size=7, gamma=0.1)"
      ]
    },
    {
      "cell_type": "code",
      "execution_count": 21,
      "id": "e327000c-ec34-4ba0-bb5b-cfca68bdec15",
      "metadata": {
        "id": "e327000c-ec34-4ba0-bb5b-cfca68bdec15",
        "colab": {
          "base_uri": "https://localhost:8080/"
        },
        "outputId": "8aea4e73-517a-4caf-e920-390bc55b98ba"
      },
      "outputs": [
        {
          "output_type": "stream",
          "name": "stdout",
          "text": [
            "Epoch 0/7\n",
            "----------\n"
          ]
        },
        {
          "output_type": "stream",
          "name": "stderr",
          "text": [
            "/usr/local/lib/python3.7/dist-packages/torch/utils/data/dataloader.py:490: UserWarning: This DataLoader will create 4 worker processes in total. Our suggested max number of worker in current system is 2, which is smaller than what this DataLoader is going to create. Please be aware that excessive worker creation might get DataLoader running slow or even freeze, lower the worker number to avoid potential slowness/freeze if necessary.\n",
            "  cpuset_checked))\n"
          ]
        },
        {
          "output_type": "stream",
          "name": "stdout",
          "text": [
            "train Loss: 0.6305 Acc: 0.6351\n",
            "val Loss: 0.2398 Acc: 0.8421\n",
            "\n",
            "Epoch 1/7\n",
            "----------\n",
            "train Loss: 0.7867 Acc: 0.6351\n",
            "val Loss: 0.0120 Acc: 1.0000\n",
            "\n",
            "Epoch 2/7\n",
            "----------\n",
            "train Loss: 0.4972 Acc: 0.8243\n",
            "val Loss: 0.0442 Acc: 0.9474\n",
            "\n",
            "Epoch 3/7\n",
            "----------\n",
            "train Loss: 0.2970 Acc: 0.8784\n",
            "val Loss: 0.0013 Acc: 1.0000\n",
            "\n",
            "Epoch 4/7\n",
            "----------\n",
            "train Loss: 0.2815 Acc: 0.8784\n",
            "val Loss: 0.0061 Acc: 1.0000\n",
            "\n",
            "Epoch 5/7\n",
            "----------\n",
            "train Loss: 0.2900 Acc: 0.8649\n",
            "val Loss: 0.0875 Acc: 1.0000\n",
            "\n",
            "Epoch 6/7\n",
            "----------\n",
            "train Loss: 0.5786 Acc: 0.8108\n",
            "val Loss: 0.2115 Acc: 0.8947\n",
            "\n",
            "Epoch 7/7\n",
            "----------\n",
            "train Loss: 0.3328 Acc: 0.8649\n",
            "val Loss: 0.0835 Acc: 0.9474\n",
            "\n",
            "Training complete in 0m 11s\n",
            "Best val Acc: 1.000000\n"
          ]
        }
      ],
      "source": [
        "model_ft = train_model(model_ft, criterion, optimizer_ft, exp_lr_scheduler,\n",
        "                       num_epochs=8)"
      ]
    },
    {
      "cell_type": "code",
      "execution_count": 22,
      "id": "a96656ee-5bc3-46a2-a234-eaa5ea49ffa9",
      "metadata": {
        "id": "a96656ee-5bc3-46a2-a234-eaa5ea49ffa9",
        "colab": {
          "base_uri": "https://localhost:8080/",
          "height": 636
        },
        "outputId": "14f0aa7f-ddf7-4d3c-96c4-6b39ea5f79e7"
      },
      "outputs": [
        {
          "output_type": "stream",
          "name": "stderr",
          "text": [
            "/usr/local/lib/python3.7/dist-packages/torch/utils/data/dataloader.py:490: UserWarning: This DataLoader will create 4 worker processes in total. Our suggested max number of worker in current system is 2, which is smaller than what this DataLoader is going to create. Please be aware that excessive worker creation might get DataLoader running slow or even freeze, lower the worker number to avoid potential slowness/freeze if necessary.\n",
            "  cpuset_checked))\n"
          ]
        },
        {
          "output_type": "display_data",
          "data": {
            "text/plain": [
              "<Figure size 432x288 with 1 Axes>"
            ],
            "image/png": "[encoded data removed]"
          },
          "metadata": {
            "needs_background": "light"
          }
        },
        {
          "output_type": "display_data",
          "data": {
            "text/plain": [
              "<Figure size 432x288 with 1 Axes>"
            ],
            "image/png": "[encoded data removed]"
          },
          "metadata": {
            "needs_background": "light"
          }
        },
        {
          "output_type": "display_data",
          "data": {
            "text/plain": [
              "<Figure size 432x288 with 1 Axes>"
            ],
            "image/png": "[encoded data removed]"
          },
          "metadata": {
            "needs_background": "light"
          }
        },
        {
          "output_type": "display_data",
          "data": {
            "text/plain": [
              "<Figure size 432x288 with 1 Axes>"
            ],
            "image/png": "[encoded data removed]"
          },
          "metadata": {
            "needs_background": "light"
          }
        },
        {
          "output_type": "display_data",
          "data": {
            "text/plain": [
              "<Figure size 432x288 with 1 Axes>"
            ],
            "image/png": "[encoded data removed]"
          },
          "metadata": {
            "needs_background": "light"
          }
        },
        {
          "output_type": "display_data",
          "data": {
            "text/plain": [
              "<Figure size 432x288 with 1 Axes>"
            ],
            "image/png": "[encoded data removed]"
          },
          "metadata": {
            "needs_background": "light"
          }
        }
      ],
      "source": [
        "visualize_model(model_ft)"
      ]
    },
    {
      "cell_type": "markdown",
      "id": "9fc0e359-1e0c-4879-9d75-3f5f52d5d7d3",
      "metadata": {
        "id": "9fc0e359-1e0c-4879-9d75-3f5f52d5d7d3"
      },
      "source": [
        "# Resnet 18"
      ]
    },
    {
      "cell_type": "code",
      "execution_count": 23,
      "id": "705ac526-7288-47f9-bd09-601fe6f653da",
      "metadata": {
        "id": "705ac526-7288-47f9-bd09-601fe6f653da"
      },
      "outputs": [],
      "source": [
        "model_conv = torchvision.models.resnet18(pretrained=True)\n",
        "for param in model_conv.parameters():\n",
        "    param.requires_grad = False\n",
        "\n",
        "# Parameters of newly constructed modules have requires_grad=True by default\n",
        "num_ftrs = model_conv.fc.in_features\n",
        "model_conv.fc = nn.Linear(num_ftrs, 2)\n",
        "\n",
        "model_conv = model_conv.to(device)\n",
        "\n",
        "criterion = nn.CrossEntropyLoss()\n",
        "\n",
        "# Observe that only parameters of final layer are being optimized as\n",
        "# opposed to before.\n",
        "optimizer_conv = optim.SGD(model_conv.fc.parameters(), lr=0.001, momentum=0.9)\n",
        "\n",
        "# Decay LR by a factor of 0.1 every 7 epochs\n",
        "exp_lr_scheduler = lr_scheduler.StepLR(optimizer_conv, step_size=7, gamma=0.1)"
      ]
    },
    {
      "cell_type": "code",
      "execution_count": 24,
      "id": "fb1bf359-2b99-4a48-b9e2-ecca3da70306",
      "metadata": {
        "id": "fb1bf359-2b99-4a48-b9e2-ecca3da70306",
        "colab": {
          "base_uri": "https://localhost:8080/"
        },
        "outputId": "27fc70c1-9def-4557-c01f-31af3b70969d"
      },
      "outputs": [
        {
          "output_type": "stream",
          "name": "stdout",
          "text": [
            "Epoch 0/24\n",
            "----------\n"
          ]
        },
        {
          "output_type": "stream",
          "name": "stderr",
          "text": [
            "/usr/local/lib/python3.7/dist-packages/torch/utils/data/dataloader.py:490: UserWarning: This DataLoader will create 4 worker processes in total. Our suggested max number of worker in current system is 2, which is smaller than what this DataLoader is going to create. Please be aware that excessive worker creation might get DataLoader running slow or even freeze, lower the worker number to avoid potential slowness/freeze if necessary.\n",
            "  cpuset_checked))\n"
          ]
        },
        {
          "output_type": "stream",
          "name": "stdout",
          "text": [
            "train Loss: 0.5665 Acc: 0.7027\n",
            "val Loss: 0.5092 Acc: 0.7368\n",
            "\n",
            "Epoch 1/24\n",
            "----------\n",
            "train Loss: 0.5623 Acc: 0.7027\n",
            "val Loss: 0.2888 Acc: 0.8947\n",
            "\n",
            "Epoch 2/24\n",
            "----------\n",
            "train Loss: 0.3935 Acc: 0.8108\n",
            "val Loss: 0.0889 Acc: 1.0000\n",
            "\n",
            "Epoch 3/24\n",
            "----------\n",
            "train Loss: 0.3324 Acc: 0.8649\n",
            "val Loss: 0.0610 Acc: 1.0000\n",
            "\n",
            "Epoch 4/24\n",
            "----------\n",
            "train Loss: 0.4522 Acc: 0.8243\n",
            "val Loss: 0.0393 Acc: 1.0000\n",
            "\n",
            "Epoch 5/24\n",
            "----------\n",
            "train Loss: 0.4333 Acc: 0.8108\n",
            "val Loss: 0.2881 Acc: 0.8947\n",
            "\n",
            "Epoch 6/24\n",
            "----------\n",
            "train Loss: 0.4089 Acc: 0.8243\n",
            "val Loss: 0.0215 Acc: 1.0000\n",
            "\n",
            "Epoch 7/24\n",
            "----------\n",
            "train Loss: 0.4279 Acc: 0.7568\n",
            "val Loss: 0.0281 Acc: 1.0000\n",
            "\n",
            "Epoch 8/24\n",
            "----------\n",
            "train Loss: 0.2849 Acc: 0.8514\n",
            "val Loss: 0.0195 Acc: 1.0000\n",
            "\n",
            "Epoch 9/24\n",
            "----------\n",
            "train Loss: 0.3274 Acc: 0.8784\n",
            "val Loss: 0.0181 Acc: 1.0000\n",
            "\n",
            "Epoch 10/24\n",
            "----------\n",
            "train Loss: 0.2554 Acc: 0.9189\n",
            "val Loss: 0.0183 Acc: 1.0000\n",
            "\n",
            "Epoch 11/24\n",
            "----------\n",
            "train Loss: 0.3880 Acc: 0.8243\n",
            "val Loss: 0.0200 Acc: 1.0000\n",
            "\n",
            "Epoch 12/24\n",
            "----------\n",
            "train Loss: 0.2412 Acc: 0.8919\n",
            "val Loss: 0.0197 Acc: 1.0000\n",
            "\n",
            "Epoch 13/24\n",
            "----------\n",
            "train Loss: 0.1995 Acc: 0.9189\n",
            "val Loss: 0.0197 Acc: 1.0000\n",
            "\n",
            "Epoch 14/24\n",
            "----------\n",
            "train Loss: 0.1972 Acc: 0.8919\n",
            "val Loss: 0.0189 Acc: 1.0000\n",
            "\n",
            "Epoch 15/24\n",
            "----------\n",
            "train Loss: 0.1843 Acc: 0.9324\n",
            "val Loss: 0.0302 Acc: 1.0000\n",
            "\n",
            "Epoch 16/24\n",
            "----------\n",
            "train Loss: 0.1734 Acc: 0.9459\n",
            "val Loss: 0.0233 Acc: 1.0000\n",
            "\n",
            "Epoch 17/24\n",
            "----------\n",
            "train Loss: 0.1935 Acc: 0.9189\n",
            "val Loss: 0.0191 Acc: 1.0000\n",
            "\n",
            "Epoch 18/24\n",
            "----------\n",
            "train Loss: 0.4034 Acc: 0.7973\n",
            "val Loss: 0.0202 Acc: 1.0000\n",
            "\n",
            "Epoch 19/24\n",
            "----------\n",
            "train Loss: 0.3821 Acc: 0.7703\n",
            "val Loss: 0.0196 Acc: 1.0000\n",
            "\n",
            "Epoch 20/24\n",
            "----------\n",
            "train Loss: 0.2783 Acc: 0.8919\n",
            "val Loss: 0.0223 Acc: 1.0000\n",
            "\n",
            "Epoch 21/24\n",
            "----------\n",
            "train Loss: 0.2668 Acc: 0.8649\n",
            "val Loss: 0.0221 Acc: 1.0000\n",
            "\n",
            "Epoch 22/24\n",
            "----------\n",
            "train Loss: 0.3244 Acc: 0.8649\n",
            "val Loss: 0.0234 Acc: 1.0000\n",
            "\n",
            "Epoch 23/24\n",
            "----------\n",
            "train Loss: 0.3651 Acc: 0.7838\n",
            "val Loss: 0.0213 Acc: 1.0000\n",
            "\n",
            "Epoch 24/24\n",
            "----------\n",
            "train Loss: 0.2827 Acc: 0.8514\n",
            "val Loss: 0.0240 Acc: 1.0000\n",
            "\n",
            "Training complete in 0m 28s\n",
            "Best val Acc: 1.000000\n"
          ]
        }
      ],
      "source": [
        "model_conv = train_model(model_conv, criterion, optimizer_conv,\n",
        "                         exp_lr_scheduler, num_epochs=25)"
      ]
    },
    {
      "cell_type": "code",
      "execution_count": 25,
      "id": "8fe44dd0-2a0a-443a-a98b-a25696b758f5",
      "metadata": {
        "id": "8fe44dd0-2a0a-443a-a98b-a25696b758f5",
        "colab": {
          "base_uri": "https://localhost:8080/",
          "height": 636
        },
        "outputId": "2f4486b1-03e6-4e41-cc6c-7a50b1cd1a00"
      },
      "outputs": [
        {
          "output_type": "stream",
          "name": "stderr",
          "text": [
            "/usr/local/lib/python3.7/dist-packages/torch/utils/data/dataloader.py:490: UserWarning: This DataLoader will create 4 worker processes in total. Our suggested max number of worker in current system is 2, which is smaller than what this DataLoader is going to create. Please be aware that excessive worker creation might get DataLoader running slow or even freeze, lower the worker number to avoid potential slowness/freeze if necessary.\n",
            "  cpuset_checked))\n"
          ]
        },
        {
          "output_type": "display_data",
          "data": {
            "text/plain": [
              "<Figure size 432x288 with 1 Axes>"
            ],
            "image/png": "[encoded data removed]"
          },
          "metadata": {
            "needs_background": "light"
          }
        },
        {
          "output_type": "display_data",
          "data": {
            "text/plain": [
              "<Figure size 432x288 with 1 Axes>"
            ],
            "image/png": "[encoded data removed]"
          },
          "metadata": {
            "needs_background": "light"
          }
        },
        {
          "output_type": "display_data",
          "data": {
            "text/plain": [
              "<Figure size 432x288 with 1 Axes>"
            ],
            "image/png": "[encoded data removed]"
          },
          "metadata": {
            "needs_background": "light"
          }
        },
        {
          "output_type": "display_data",
          "data": {
            "text/plain": [
              "<Figure size 432x288 with 1 Axes>"
            ],
            "image/png": "[encoded data removed]"
          },
          "metadata": {
            "needs_background": "light"
          }
        },
        {
          "output_type": "display_data",
          "data": {
            "text/plain": [
              "<Figure size 432x288 with 1 Axes>"
            ],
            "image/png": "[encoded data removed]"
          },
          "metadata": {
            "needs_background": "light"
          }
        },
        {
          "output_type": "display_data",
          "data": {
            "text/plain": [
              "<Figure size 432x288 with 1 Axes>"
            ],
            "image/png": "[encoded data removed]"
          },
          "metadata": {
            "needs_background": "light"
          }
        }
      ],
      "source": [
        "visualize_model(model_conv)\n",
        "\n",
        "plt.ioff()\n",
        "plt.show()"
      ]
    }
  ],
  "metadata": {
    "kernelspec": {
      "display_name": "Python 3 (ipykernel)",
      "language": "python",
      "name": "python3"
    },
    "language_info": {
      "codemirror_mode": {
        "name": "ipython",
        "version": 3
      },
      "file_extension": ".py",
      "mimetype": "text/x-python",
      "name": "python",
      "nbconvert_exporter": "python",
      "pygments_lexer": "ipython3",
      "version": "3.9.7"
    },
    "colab": {
      "name": "CNN_worms.ipynb",
      "provenance": [],
      "include_colab_link": true
    },
    "accelerator": "GPU",
    "widgets": {
      "application/vnd.jupyter.widget-state+json": {
        "07bfc609a2e94939b7a4f2042bba4eec": {
          "model_module": "@jupyter-widgets/controls",
          "model_name": "HBoxModel",
          "model_module_version": "1.5.0",
          "state": {
            "_dom_classes": [],
            "_model_module": "@jupyter-widgets/controls",
            "_model_module_version": "1.5.0",
            "_model_name": "HBoxModel",
            "_view_count": null,
            "_view_module": "@jupyter-widgets/controls",
            "_view_module_version": "1.5.0",
            "_view_name": "HBoxView",
            "box_style": "",
            "children": [
              "IPY_MODEL_40303e33635248fbba6bd928adce3fde",
              "IPY_MODEL_355e496ed51e4d95be398d878f7399f5",
              "IPY_MODEL_5536ad66a66b4522a3a94e7d7f481d33"
            ],
            "layout": "IPY_MODEL_a78e13db751944c08f70c7ad204db8ab"
          }
        },
        "40303e33635248fbba6bd928adce3fde": {
          "model_module": "@jupyter-widgets/controls",
          "model_name": "HTMLModel",
          "model_module_version": "1.5.0",
          "state": {
            "_dom_classes": [],
            "_model_module": "@jupyter-widgets/controls",
            "_model_module_version": "1.5.0",
            "_model_name": "HTMLModel",
            "_view_count": null,
            "_view_module": "@jupyter-widgets/controls",
            "_view_module_version": "1.5.0",
            "_view_name": "HTMLView",
            "description": "",
            "description_tooltip": null,
            "layout": "IPY_MODEL_e359712d682f4e4eac7d704139c217e1",
            "placeholder": "​",
            "style": "IPY_MODEL_3e4aa324e8d842ee9dba0c73e779b1e7",
            "value": "100%"
          }
        },
        "355e496ed51e4d95be398d878f7399f5": {
          "model_module": "@jupyter-widgets/controls",
          "model_name": "FloatProgressModel",
          "model_module_version": "1.5.0",
          "state": {
            "_dom_classes": [],
            "_model_module": "@jupyter-widgets/controls",
            "_model_module_version": "1.5.0",
            "_model_name": "FloatProgressModel",
            "_view_count": null,
            "_view_module": "@jupyter-widgets/controls",
            "_view_module_version": "1.5.0",
            "_view_name": "ProgressView",
            "bar_style": "success",
            "description": "",
            "description_tooltip": null,
            "layout": "IPY_MODEL_9ecbefe627eb4ad9a9de4da321fa0216",
            "max": 46830571,
            "min": 0,
            "orientation": "horizontal",
            "style": "IPY_MODEL_16c1a68491cf49f7ae4428498c0e95d7",
            "value": 46830571
          }
        },
        "5536ad66a66b4522a3a94e7d7f481d33": {
          "model_module": "@jupyter-widgets/controls",
          "model_name": "HTMLModel",
          "model_module_version": "1.5.0",
          "state": {
            "_dom_classes": [],
            "_model_module": "@jupyter-widgets/controls",
            "_model_module_version": "1.5.0",
            "_model_name": "HTMLModel",
            "_view_count": null,
            "_view_module": "@jupyter-widgets/controls",
            "_view_module_version": "1.5.0",
            "_view_name": "HTMLView",
            "description": "",
            "description_tooltip": null,
            "layout": "IPY_MODEL_76db5bb261ba4a68a800e72392ddafad",
            "placeholder": "​",
            "style": "IPY_MODEL_d2900aeb43de4501948ba01fd1bb8989",
            "value": " 44.7M/44.7M [00:00&lt;00:00, 85.1MB/s]"
          }
        },
        "a78e13db751944c08f70c7ad204db8ab": {
          "model_module": "@jupyter-widgets/base",
          "model_name": "LayoutModel",
          "model_module_version": "1.2.0",
          "state": {
            "_model_module": "@jupyter-widgets/base",
            "_model_module_version": "1.2.0",
            "_model_name": "LayoutModel",
            "_view_count": null,
            "_view_module": "@jupyter-widgets/base",
            "_view_module_version": "1.2.0",
            "_view_name": "LayoutView",
            "align_content": null,
            "align_items": null,
            "align_self": null,
            "border": null,
            "bottom": null,
            "display": null,
            "flex": null,
            "flex_flow": null,
            "grid_area": null,
            "grid_auto_columns": null,
            "grid_auto_flow": null,
            "grid_auto_rows": null,
            "grid_column": null,
            "grid_gap": null,
            "grid_row": null,
            "grid_template_areas": null,
            "grid_template_columns": null,
            "grid_template_rows": null,
            "height": null,
            "justify_content": null,
            "justify_items": null,
            "left": null,
            "margin": null,
            "max_height": null,
            "max_width": null,
            "min_height": null,
            "min_width": null,
            "object_fit": null,
            "object_position": null,
            "order": null,
            "overflow": null,
            "overflow_x": null,
            "overflow_y": null,
            "padding": null,
            "right": null,
            "top": null,
            "visibility": null,
            "width": null
          }
        },
        "e359712d682f4e4eac7d704139c217e1": {
          "model_module": "@jupyter-widgets/base",
          "model_name": "LayoutModel",
          "model_module_version": "1.2.0",
          "state": {
            "_model_module": "@jupyter-widgets/base",
            "_model_module_version": "1.2.0",
            "_model_name": "LayoutModel",
            "_view_count": null,
            "_view_module": "@jupyter-widgets/base",
            "_view_module_version": "1.2.0",
            "_view_name": "LayoutView",
            "align_content": null,
            "align_items": null,
            "align_self": null,
            "border": null,
            "bottom": null,
            "display": null,
            "flex": null,
            "flex_flow": null,
            "grid_area": null,
            "grid_auto_columns": null,
            "grid_auto_flow": null,
            "grid_auto_rows": null,
            "grid_column": null,
            "grid_gap": null,
            "grid_row": null,
            "grid_template_areas": null,
            "grid_template_columns": null,
            "grid_template_rows": null,
            "height": null,
            "justify_content": null,
            "justify_items": null,
            "left": null,
            "margin": null,
            "max_height": null,
            "max_width": null,
            "min_height": null,
            "min_width": null,
            "object_fit": null,
            "object_position": null,
            "order": null,
            "overflow": null,
            "overflow_x": null,
            "overflow_y": null,
            "padding": null,
            "right": null,
            "top": null,
            "visibility": null,
            "width": null
          }
        },
        "3e4aa324e8d842ee9dba0c73e779b1e7": {
          "model_module": "@jupyter-widgets/controls",
          "model_name": "DescriptionStyleModel",
          "model_module_version": "1.5.0",
          "state": {
            "_model_module": "@jupyter-widgets/controls",
            "_model_module_version": "1.5.0",
            "_model_name": "DescriptionStyleModel",
            "_view_count": null,
            "_view_module": "@jupyter-widgets/base",
            "_view_module_version": "1.2.0",
            "_view_name": "StyleView",
            "description_width": ""
          }
        },
        "9ecbefe627eb4ad9a9de4da321fa0216": {
          "model_module": "@jupyter-widgets/base",
          "model_name": "LayoutModel",
          "model_module_version": "1.2.0",
          "state": {
            "_model_module": "@jupyter-widgets/base",
            "_model_module_version": "1.2.0",
            "_model_name": "LayoutModel",
            "_view_count": null,
            "_view_module": "@jupyter-widgets/base",
            "_view_module_version": "1.2.0",
            "_view_name": "LayoutView",
            "align_content": null,
            "align_items": null,
            "align_self": null,
            "border": null,
            "bottom": null,
            "display": null,
            "flex": null,
            "flex_flow": null,
            "grid_area": null,
            "grid_auto_columns": null,
            "grid_auto_flow": null,
            "grid_auto_rows": null,
            "grid_column": null,
            "grid_gap": null,
            "grid_row": null,
            "grid_template_areas": null,
            "grid_template_columns": null,
            "grid_template_rows": null,
            "height": null,
            "justify_content": null,
            "justify_items": null,
            "left": null,
            "margin": null,
            "max_height": null,
            "max_width": null,
            "min_height": null,
            "min_width": null,
            "object_fit": null,
            "object_position": null,
            "order": null,
            "overflow": null,
            "overflow_x": null,
            "overflow_y": null,
            "padding": null,
            "right": null,
            "top": null,
            "visibility": null,
            "width": null
          }
        },
        "16c1a68491cf49f7ae4428498c0e95d7": {
          "model_module": "@jupyter-widgets/controls",
          "model_name": "ProgressStyleModel",
          "model_module_version": "1.5.0",
          "state": {
            "_model_module": "@jupyter-widgets/controls",
            "_model_module_version": "1.5.0",
            "_model_name": "ProgressStyleModel",
            "_view_count": null,
            "_view_module": "@jupyter-widgets/base",
            "_view_module_version": "1.2.0",
            "_view_name": "StyleView",
            "bar_color": null,
            "description_width": ""
          }
        },
        "76db5bb261ba4a68a800e72392ddafad": {
          "model_module": "@jupyter-widgets/base",
          "model_name": "LayoutModel",
          "model_module_version": "1.2.0",
          "state": {
            "_model_module": "@jupyter-widgets/base",
            "_model_module_version": "1.2.0",
            "_model_name": "LayoutModel",
            "_view_count": null,
            "_view_module": "@jupyter-widgets/base",
            "_view_module_version": "1.2.0",
            "_view_name": "LayoutView",
            "align_content": null,
            "align_items": null,
            "align_self": null,
            "border": null,
            "bottom": null,
            "display": null,
            "flex": null,
            "flex_flow": null,
            "grid_area": null,
            "grid_auto_columns": null,
            "grid_auto_flow": null,
            "grid_auto_rows": null,
            "grid_column": null,
            "grid_gap": null,
            "grid_row": null,
            "grid_template_areas": null,
            "grid_template_columns": null,
            "grid_template_rows": null,
            "height": null,
            "justify_content": null,
            "justify_items": null,
            "left": null,
            "margin": null,
            "max_height": null,
            "max_width": null,
            "min_height": null,
            "min_width": null,
            "object_fit": null,
            "object_position": null,
            "order": null,
            "overflow": null,
            "overflow_x": null,
            "overflow_y": null,
            "padding": null,
            "right": null,
            "top": null,
            "visibility": null,
            "width": null
          }
        },
        "d2900aeb43de4501948ba01fd1bb8989": {
          "model_module": "@jupyter-widgets/controls",
          "model_name": "DescriptionStyleModel",
          "model_module_version": "1.5.0",
          "state": {
            "_model_module": "@jupyter-widgets/controls",
            "_model_module_version": "1.5.0",
            "_model_name": "DescriptionStyleModel",
            "_view_count": null,
            "_view_module": "@jupyter-widgets/base",
            "_view_module_version": "1.2.0",
            "_view_name": "StyleView",
            "description_width": ""
          }
        }
      }
    }
  },
  "nbformat": 4,
  "nbformat_minor": 5
}